{
 "cells": [
  {
   "cell_type": "markdown",
   "metadata": {},
   "source": [
    "# Image Transformations Walkthrough\n",
    "\n",
    "Let's start by making an example image:"
   ]
  },
  {
   "cell_type": "code",
   "execution_count": null,
   "metadata": {},
   "outputs": [],
   "source": [
    "import numpy as np\n",
    "import matplotlib.pyplot as plt\n",
    "\n",
    "# I define this image via an outer product: \n",
    "#   (sin(x)^2) . (y^2)\n",
    "base_image = np.outer(np.arange(16)**2,\n",
    "                      np.sin(np.arange(41)/4)**2) \n",
    "\n",
    "def plot_image(image, title=None):\n",
    "    plt.figure(dpi=150)\n",
    "    plt.imshow(base_image, cmap='gray')\n",
    "    if title is not None:\n",
    "        plt.title(title)\n",
    "        \n",
    "plot_image(base_image, title='Our Base Image')\n",
    "print(f\"Image Shape: {base_image.shape}\")\n",
    "None"
   ]
  },
  {
   "cell_type": "markdown",
   "metadata": {},
   "source": [
    "**Question:** What is the (x, y) coordinate of the top left corner?\n",
    "\n",
    "**Question:** What is the (x, y) coordinate of the bottom right corner?\n",
    "\n",
    "Remember that we want to represent a transformation matrix as follows:\n",
    "\n",
    "$$ \\begin{bmatrix}x' \\\\ y'\\end{bmatrix} = \n",
    "T \\begin{bmatrix}x \\\\ y\\end{bmatrix} $$\n",
    "\n",
    "What we want to do is to build a data structure (a matrix) that contains all of the image coordinates and allows us to see what applying a `transformation_matrix` $T$ will do to them.\n",
    "\n",
    "Let's write them out here:"
   ]
  },
  {
   "cell_type": "code",
   "execution_count": null,
   "metadata": {},
   "outputs": [],
   "source": [
    "## TASK: Write out the 2D image coordinates for the four corners\n",
    "#  as a single matrix. Each coordinate should be a column vector.\n",
    "\n",
    "# Note: writing a matrix of column vectors is annoying. It is far\n",
    "# easier to write out a matrix of row vectors and then take the\n",
    "# transpose operation of that matrix.\n",
    "initial_image_coords = None\n",
    "\n",
    "if initial_image_coords is None:\n",
    "    raise NotImplementedError('You need to define the image coordinates')\n",
    "if not initial_image_coords.shape == (2, 4):\n",
    "    raise ValueError('You should have 4 2-element column vectors.')\n",
    "    \n",
    "print(f'Image Coordinates: \\n'\n",
    "      f'  x: {initial_image_coords[0]}\\n'\n",
    "      f'  y: {initial_image_coords[1]}')"
   ]
  },
  {
   "cell_type": "markdown",
   "metadata": {},
   "source": [
    "Once we're done defining the coordinates, we can plot them on top of the image."
   ]
  },
  {
   "cell_type": "code",
   "execution_count": null,
   "metadata": {},
   "outputs": [],
   "source": [
    "# Once we're done, we can plot them.\n",
    "def plot_coords(coordinates, fmt='bo'):\n",
    "    plt.plot(coordinates[0, :], coordinates[1, :], fmt)\n",
    "\n",
    "plot_image(base_image, 'Base Image with Coords')\n",
    "plot_coords(initial_image_coords)"
   ]
  },
  {
   "cell_type": "markdown",
   "metadata": {},
   "source": [
    "Recall that we want to represent a transformation matrix as follows:\n",
    "\n",
    "$$ \\begin{bmatrix}x' \\\\ y'\\end{bmatrix} = \n",
    "T \\begin{bmatrix}x \\\\ y\\end{bmatrix}$$\n",
    "\n",
    "Now that we have a matrix of the image coordinates (each with their own $x$ and $y$), we can go about defining some transformation matrices. Let's start with the identity matrix.\n",
    "\n",
    "**Question:** What is the shape of this transformation matrix?\n",
    "\n",
    "**Question:** What are the entries in the identity transformation?\n",
    "\n",
    "**TASK:** Let's implement the identity transformation matrix."
   ]
  },
  {
   "cell_type": "code",
   "execution_count": null,
   "metadata": {},
   "outputs": [],
   "source": [
    "s = 2\n",
    "transformation = None\n",
    "\n",
    "\n",
    "if transformation is None:\n",
    "    raise NotImplementedError()\n",
    "\n",
    "\n",
    "transformed_image_coords = transformation @ initial_image_coords\n",
    "\n",
    "plot_image(base_image)\n",
    "plot_coords(initial_image_coords, 'bo')\n",
    "plot_coords(transformed_image_coords, 'rx')"
   ]
  },
  {
   "cell_type": "markdown",
   "metadata": {},
   "source": [
    "Now let's think about some other transformation matrices:\n",
    "\n",
    "- [ ] Rotation\n",
    "- [ ] Skew\n",
    "- [ ] Inverse Transformations (easy with `np.linalg.inv`!)"
   ]
  },
  {
   "cell_type": "markdown",
   "metadata": {},
   "source": [
    "## Homogeneous Image Coordinates\n",
    "\n",
    "In order to support translation, we need to extend our coordinates from above to include a third coordinate, turning them into *homogeneous image coordinates*. \n",
    "\n",
    "**Task:** Let's add a third coordinate to all of our coordinates from before. (What value does this third coordinate have?)\n",
    "\n",
    "**Question:** What does the identity matrix look like in this new system?\n",
    "\n",
    "**Task:** Let's implement translation.\n",
    "\n",
    "**Task:** Let's implement a *homography* (Don't forget to re-homogonize the coordinates!)"
   ]
  },
  {
   "cell_type": "code",
   "execution_count": null,
   "metadata": {},
   "outputs": [],
   "source": [
    "## TODO: Let's implement the homogeneous image coordinates.\n",
    "\n",
    "initial_image_coords = None\n",
    "\n",
    "\n",
    "transformation = None\n",
    "\n",
    "if transformation is None:\n",
    "    raise NotImplementedError()\n",
    "\n",
    "transformed_image_coords = transformation @ initial_image_coords\n",
    "\n",
    "print(f\"Before:\\n {initial_image_coords}\")\n",
    "\n",
    "print(f\"After:\\n {transformed_image_coords}\")\n",
    "\n",
    "plot_image(base_image)\n",
    "plot_coords(initial_image_coords, 'bo')\n",
    "plot_coords(transformed_image_coords, 'rx')"
   ]
  },
  {
   "cell_type": "markdown",
   "metadata": {},
   "source": [
    "Okay, lets plot those coordinates too (and on top of the original image)."
   ]
  },
  {
   "cell_type": "markdown",
   "metadata": {},
   "source": [
    "## Image Warping: Starting Point Code\n",
    "\n",
    "Here, I am providing you with code that you can use to get started on implementing full image warping. I have modified the `upsample_image` code slightly to use the `scipy.interpolate` package: you **can** use this for your second programming assignment.\n",
    "\n",
    "In this first code block, I have re-implemented the image upsampling procedure that you should recognize from your homework:"
   ]
  },
  {
   "cell_type": "code",
   "execution_count": null,
   "metadata": {},
   "outputs": [],
   "source": [
    "## Upsampling image example\n",
    "from scipy.interpolate import RectBivariateSpline\n",
    "\n",
    "def upsample_image(image, target_shape):\n",
    "    # Initialize the upsampled image\n",
    "    image_up = np.zeros(target_shape)\n",
    "    \n",
    "    sh = image.shape\n",
    "    x = np.arange(image.shape[1]).astype(float)\n",
    "    y = np.arange(image.shape[0]).astype(float)\n",
    "    \n",
    "    # Define the new coordinates (using the [y, x] convention\n",
    "    # since image matrices are defined [row, column])\n",
    "    new_xs = np.linspace(0, image.shape[1]-1, \n",
    "                         target_shape[1], endpoint=True)\n",
    "    new_ys = np.linspace(0, image.shape[0]-1, \n",
    "                         target_shape[0], endpoint=True)\n",
    "    \n",
    "    # Loop through coordinates and set the image values\n",
    "    # Note: you can use this 'image_fn' to perform interpolation instead\n",
    "    # of your implementation: new_val = image_fn(new_x, new_y)[0, 0]\n",
    "    image_fn = RectBivariateSpline(x, y, image.T)  # Transpose needed for proper x, y coordinate\n",
    "    for ix, new_x in np.ndenumerate(new_xs):\n",
    "        for iy, new_y in np.ndenumerate(new_ys):\n",
    "            image_up[iy, ix] = image_fn(new_x, new_y)\n",
    "            \n",
    "    return image_up\n",
    "\n",
    "\n",
    "up_image = upsample_image(base_image, [16*3, 41*3])\n",
    "\n",
    "plt.figure(dpi=300)\n",
    "plt.subplot(2, 1, 1)\n",
    "plt.imshow(base_image, cmap='gray')\n",
    "plt.subplot(2, 1, 2)\n",
    "plt.imshow(up_image, cmap='gray')\n",
    "\n",
    "None"
   ]
  },
  {
   "cell_type": "markdown",
   "metadata": {},
   "source": [
    "In your homework, you will need to use what you have learned today in class to implement image warping. You can use the image upsampling + interpolation code above as a starting point. To warp an image, you will need to loop over all pixels in the warped target image and:\n",
    "\n",
    "1. Compute their location in the input image\n",
    "2. Get the pixel value from the input image using interpolation\n",
    "3. Set the value of the target-image pixel with that value.\n",
    "\n",
    "The code will look something like this:"
   ]
  },
  {
   "cell_type": "code",
   "execution_count": null,
   "metadata": {},
   "outputs": [],
   "source": [
    "def transform_image(image, transformation_matrix):\n",
    "    # Notice that because matrices are stored \"rows, columns\",\n",
    "    # we need to flip the \"shape\" coordinates so that the transformation\n",
    "    # matrix does what we expect. The other convention is also acceptable,\n",
    "    # as long as one is consistent. In this function, the transformation\n",
    "    # matrix is assumed to be in [x, y, w] coordinates, even though the image\n",
    "    # is stored in row, column (y, x) coordinates.\n",
    "    sh = image.shape\n",
    "    x = np.arange(image.shape[1]).astype(float)\n",
    "    y = np.arange(image.shape[0]).astype(float)\n",
    "    \n",
    "    # For now, the dimensions of the output image will\n",
    "    # remain unchanged. Modify xi and yi to change the\n",
    "    # domain of the output image.\n",
    "    xi = np.arange(image.shape[1]).astype(float)\n",
    "    yi = np.arange(image.shape[0]).astype(float)\n",
    "\n",
    "    # Perform the transformation\n",
    "    image_fn = scipy.interpolate.interp2d(x, y, image, fill_value=0)\n",
    "    transformed_image = np.zeros((len(yi), len(xi)))\n",
    "    raise NotImplementedError()\n",
    "    return transformed_image"
   ]
  },
  {
   "cell_type": "code",
   "execution_count": null,
   "metadata": {},
   "outputs": [],
   "source": []
  }
 ],
 "metadata": {
  "kernelspec": {
   "display_name": "cs682venv",
   "language": "python",
   "name": "cs682venv"
  },
  "language_info": {
   "codemirror_mode": {
    "name": "ipython",
    "version": 3
   },
   "file_extension": ".py",
   "mimetype": "text/x-python",
   "name": "python",
   "nbconvert_exporter": "python",
   "pygments_lexer": "ipython3",
   "version": "3.10.12"
  }
 },
 "nbformat": 4,
 "nbformat_minor": 4
}
